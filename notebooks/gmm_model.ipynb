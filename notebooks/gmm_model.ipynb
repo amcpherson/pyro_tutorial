{
 "cells": [
  {
   "cell_type": "code",
   "execution_count": 7,
   "id": "48f90cc2",
   "metadata": {},
   "outputs": [],
   "source": [
    "\n",
    "\n",
    "import pyro\n",
    "import pyro.distributions as dist\n",
    "from pyro import poutine\n",
    "from pyro.infer.autoguide import AutoDelta, AutoNormal\n",
    "from pyro.optim import Adam\n",
    "from pyro.infer import SVI, TraceEnum_ELBO, config_enumerate, infer_discrete, Trace_ELBO\n",
    "import torch\n",
    "\n",
    "import seaborn as sns\n",
    "import matplotlib.pyplot as plt\n"
   ]
  },
  {
   "cell_type": "markdown",
   "id": "b1ada98d",
   "metadata": {},
   "source": [
    "\n",
    "# Model\n",
    "\n",
    "Below is a simple 1D gaussian mixture model with component specific means and global variance parameters.  We have used the @config_enumerate decorator to tell pyro to enumerate over, or marginalize, the discrete random variables (assignment).\n"
   ]
  },
  {
   "cell_type": "code",
   "execution_count": 8,
   "id": "8a8215f9",
   "metadata": {},
   "outputs": [],
   "source": [
    "\n",
    "K = 2\n",
    "\n",
    "@config_enumerate\n",
    "def model(data=None, n_data=None):\n",
    "    assert (data is None) != (n_data is None)\n",
    "    if n_data is None:\n",
    "        n_data = data.shape[0]\n",
    "\n",
    "    weights = pyro.sample('weights', dist.Dirichlet(0.5 * torch.ones(K)))\n",
    "    scale = pyro.sample('scale', dist.LogNormal(0., 0.5))\n",
    "\n",
    "    with pyro.plate('components', K):\n",
    "        locs = pyro.sample('locs', dist.Normal(0., 4.))\n",
    "\n",
    "    with pyro.plate('data', n_data):\n",
    "        assignment = pyro.sample('assignment', dist.Categorical(weights))\n",
    "        pyro.sample('obs', dist.Normal(locs[assignment], scale), obs=data)\n"
   ]
  },
  {
   "cell_type": "markdown",
   "id": "d4cda2ca",
   "metadata": {},
   "source": [
    "\n",
    "# Simulate data\n",
    "\n",
    "Generate 100 data points from the model.  Print the simulated parameters and show a histogram of the simulated data.\n"
   ]
  },
  {
   "cell_type": "code",
   "execution_count": 9,
   "id": "51c94e27",
   "metadata": {},
   "outputs": [
    {
     "name": "stdout",
     "output_type": "stream",
     "text": [
      "weights [0.917575   0.08242498]\n",
      "scale 0.3148601\n",
      "locs [6.5407276 8.245778 ]\n"
     ]
    },
    {
     "data": {
      "image/png": "[encoded data removed]",
      "text/plain": [
       "<Figure size 432x288 with 1 Axes>"
      ]
     },
     "metadata": {
      "needs_background": "light"
     },
     "output_type": "display_data"
    }
   ],
   "source": [
    "\n",
    "pyro.set_rng_seed(2022)\n",
    "pyro.clear_param_store()\n",
    "\n",
    "model_trace = pyro.poutine.trace(model)\n",
    "\n",
    "samples = model_trace.get_trace(n_data=100)\n",
    "\n",
    "for a in ('weights', 'scale', 'locs'):\n",
    "    print(a, samples.nodes[a]['value'].detach().numpy())\n",
    "\n",
    "sns.histplot(x=samples.nodes['obs']['value'].detach().numpy(), color='0.5')\n",
    "\n",
    "data = samples.nodes['obs']['value'].detach()\n"
   ]
  },
  {
   "cell_type": "markdown",
   "id": "e7ec52ea",
   "metadata": {},
   "source": [
    "\n",
    "# Inference\n",
    "\n",
    "Use the TraceEnum_ELBO implementation of the elbo calculation that enumerates and marginalizes over the discrete hidden variables.  Use the AutoDelta guide for the remaining variables, which will use a delta function to approximate the posteriors of hidden variables producing point estimates of each variable.\n"
   ]
  },
  {
   "cell_type": "code",
   "execution_count": 10,
   "id": "a4383d40",
   "metadata": {},
   "outputs": [],
   "source": [
    "\n",
    "optim = pyro.optim.Adam({'lr': 0.1, 'betas': [0.8, 0.99]})\n",
    "elbo = TraceEnum_ELBO(max_plate_nesting=1)\n",
    "\n",
    "pyro.set_rng_seed(1)\n",
    "pyro.clear_param_store()\n",
    "\n",
    "global_guide = AutoDelta(\n",
    "    pyro.poutine.block(model, expose=['weights', 'locs', 'scale']))\n",
    "\n",
    "svi = SVI(model, global_guide, optim, loss=elbo)\n"
   ]
  },
  {
   "cell_type": "code",
   "execution_count": 11,
   "id": "3e437937",
   "metadata": {},
   "outputs": [
    {
     "name": "stdout",
     "output_type": "stream",
     "text": [
      "\n",
      "...................................................................................................\n",
      "...................................................................................................\n",
      "...................................................................................................\n",
      "...................................................................................................\n",
      "..................................................................................................."
     ]
    },
    {
     "data": {
      "image/png": "[encoded data removed]",
      "text/plain": [
       "<Figure size 1000x300 with 1 Axes>"
      ]
     },
     "metadata": {},
     "output_type": "display_data"
    }
   ],
   "source": [
    "\n",
    "losses = []\n",
    "for i in range(500):\n",
    "    loss = svi.step(data)\n",
    "    losses.append(loss)\n",
    "    print('.' if i % 100 else '\\n', end='')\n",
    "\n",
    "plt.figure(figsize=(10,3), dpi=100).set_facecolor('white')\n",
    "plt.plot(losses)\n",
    "plt.xlabel('iters')\n",
    "plt.ylabel('loss')\n",
    "plt.yscale('log')\n",
    "plt.title('Convergence of SVI');\n"
   ]
  },
  {
   "cell_type": "code",
   "execution_count": 12,
   "id": "beda3c03",
   "metadata": {},
   "outputs": [
    {
     "name": "stdout",
     "output_type": "stream",
     "text": [
      "AutoDelta.weights tensor([1.0000e+00, 1.3988e-09])\n",
      "AutoDelta.scale tensor(0.6579)\n",
      "AutoDelta.locs tensor([6.7522, 4.4876])\n"
     ]
    }
   ],
   "source": [
    "\n",
    "for k in pyro.get_param_store():\n",
    "    print(k, pyro.get_param_store()[k].detach())\n"
   ]
  },
  {
   "cell_type": "markdown",
   "id": "70835290",
   "metadata": {},
   "source": [
    "\n",
    "# Additional exercises\n",
    "\n",
    "1. The inferred parameters were innaccurate, try generating a better initialization as described in the [gmm tutorial](https://pyro.ai/examples/gmm.html#Training-a-MAP-estimator)\n",
    "2. Extend the GMM to a 2D model\n",
    "3. Modify from global variance to component specific variance\n",
    "4. Modify from global variance to dimension specific variance\n"
   ]
  },
  {
   "cell_type": "code",
   "execution_count": null,
   "id": "0dc6e37f",
   "metadata": {},
   "outputs": [],
   "source": []
  }
 ],
 "metadata": {
  "kernelspec": {
   "display_name": "Python 3 (ipykernel)",
   "language": "python",
   "name": "python3"
  },
  "language_info": {
   "codemirror_mode": {
    "name": "ipython",
    "version": 3
   },
   "file_extension": ".py",
   "mimetype": "text/x-python",
   "name": "python",
   "nbconvert_exporter": "python",
   "pygments_lexer": "ipython3",
   "version": "3.8.0"
  }
 },
 "nbformat": 4,
 "nbformat_minor": 5
}
