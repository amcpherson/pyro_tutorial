{
 "cells": [
  {
   "cell_type": "code",
   "execution_count": 8,
   "id": "48f90cc2",
   "metadata": {},
   "outputs": [],
   "source": [
    "\n",
    "\n",
    "import pyro\n",
    "import pyro.distributions as dist\n",
    "from pyro import poutine\n",
    "from pyro.infer.autoguide import AutoDelta, AutoNormal\n",
    "from pyro.optim import Adam\n",
    "from pyro.infer import SVI, TraceEnum_ELBO, config_enumerate, infer_discrete, Trace_ELBO\n",
    "import torch\n",
    "\n",
    "import seaborn as sns\n",
    "import matplotlib.pyplot as plt\n"
   ]
  },
  {
   "cell_type": "markdown",
   "id": "b1ada98d",
   "metadata": {},
   "source": [
    "\n",
    "# Model\n",
    "\n",
    "Below is a simple 1D gaussian mixture model with component specific means and global variance parameters.  We have used the @config_enumerate decorator to tell pyro to enumerate over, or marginalize, the discrete random variables (assignment).\n"
   ]
  },
  {
   "cell_type": "code",
   "execution_count": 9,
   "id": "8a8215f9",
   "metadata": {},
   "outputs": [],
   "source": [
    "\n",
    "K = 2\n",
    "\n",
    "@config_enumerate\n",
    "def model(data=None, n_data=None):\n",
    "    assert (data is None) != (n_data is None)\n",
    "    if n_data is None:\n",
    "        n_data = data.shape[0]\n",
    "\n",
    "    weights = pyro.sample('weights', dist.Dirichlet(0.5 * torch.ones(K)))\n",
    "    scale = pyro.sample('scale', dist.LogNormal(0., 0.5))\n",
    "\n",
    "    with pyro.plate('components', K):\n",
    "        locs = pyro.sample('locs', dist.Normal(0., 4.))\n",
    "\n",
    "    with pyro.plate('data', n_data):\n",
    "        assignment = pyro.sample('assignment', dist.Categorical(weights))\n",
    "        pyro.sample('obs', dist.Normal(locs[assignment], scale), obs=data)\n"
   ]
  },
  {
   "cell_type": "markdown",
   "id": "d4cda2ca",
   "metadata": {},
   "source": [
    "\n",
    "# Simulate data\n",
    "\n",
    "Generate 100 data points from the model.  Print the simulated parameters and show a histogram of the simulated data.\n"
   ]
  },
  {
   "cell_type": "code",
   "execution_count": 10,
   "id": "51c94e27",
   "metadata": {},
   "outputs": [
    {
     "name": "stdout",
     "output_type": "stream",
     "text": [
      "weights [0.917575   0.08242498]\n",
      "scale 0.3148601\n",
      "locs [6.5407276 8.245778 ]\n"
     ]
    },
    {
     "data": {
      "image/png": "[encoded data removed]",
      "text/plain": [
       "<Figure size 432x288 with 1 Axes>"
      ]
     },
     "metadata": {
      "needs_background": "light"
     },
     "output_type": "display_data"
    }
   ],
   "source": [
    "\n",
    "pyro.set_rng_seed(2022)\n",
    "pyro.clear_param_store()\n",
    "\n",
    "model_trace = pyro.poutine.trace(model)\n",
    "\n",
    "samples = model_trace.get_trace(n_data=100)\n",
    "\n",
    "for a in ('weights', 'scale', 'locs'):\n",
    "    print(a, samples.nodes[a]['value'].detach().numpy())\n",
    "\n",
    "sns.histplot(x=samples.nodes['obs']['value'].detach().numpy(), color='0.5')\n",
    "\n",
    "data = samples.nodes['obs']['value'].detach()\n"
   ]
  },
  {
   "cell_type": "markdown",
   "id": "e7ec52ea",
   "metadata": {},
   "source": [
    "\n",
    "# Inference\n",
    "\n",
    "Use the TraceEnum_ELBO implementation of the elbo calculation that enumerates and marginalizes over the discrete hidden variables.  Use the AutoDelta guide for the remaining variables, which will use a delta function to approximate the posteriors of hidden variables producing point estimates of each variable.\n"
   ]
  },
  {
   "cell_type": "code",
   "execution_count": 11,
   "id": "a4383d40",
   "metadata": {},
   "outputs": [],
   "source": [
    "\n",
    "optim = pyro.optim.Adam({'lr': 0.1, 'betas': [0.8, 0.99]})\n",
    "elbo = TraceEnum_ELBO(max_plate_nesting=1)\n",
    "\n",
    "pyro.set_rng_seed(1)\n",
    "pyro.clear_param_store()\n",
    "\n",
    "global_guide = AutoDelta(\n",
    "    pyro.poutine.block(model, expose=['weights', 'locs', 'scale']))\n",
    "\n",
    "svi = SVI(model, global_guide, optim, loss=elbo)\n"
   ]
  },
  {
   "cell_type": "code",
   "execution_count": 12,
   "id": "3e437937",
   "metadata": {},
   "outputs": [
    {
     "name": "stdout",
     "output_type": "stream",
     "text": [
      "\n",
      "...................................................................................................\n",
      "...................................................................................................\n",
      "...................................................................................................\n",
      "...................................................................................................\n",
      "..................................................................................................."
     ]
    },
    {
     "data": {
      "image/png": "[encoded data removed]",
      "text/plain": [
       "<Figure size 1000x300 with 1 Axes>"
      ]
     },
     "metadata": {},
     "output_type": "display_data"
    }
   ],
   "source": [
    "\n",
    "losses = []\n",
    "for i in range(500):\n",
    "    loss = svi.step(data)\n",
    "    losses.append(loss)\n",
    "    print('.' if i % 100 else '\\n', end='')\n",
    "\n",
    "plt.figure(figsize=(10,3), dpi=100).set_facecolor('white')\n",
    "plt.plot(losses)\n",
    "plt.xlabel('iters')\n",
    "plt.ylabel('loss')\n",
    "plt.yscale('log')\n",
    "plt.title('Convergence of SVI');\n"
   ]
  },
  {
   "cell_type": "code",
   "execution_count": 13,
   "id": "beda3c03",
   "metadata": {},
   "outputs": [
    {
     "name": "stdout",
     "output_type": "stream",
     "text": [
      "AutoDelta.weights tensor([1.0000e+00, 1.3988e-09])\n",
      "AutoDelta.scale tensor(0.6579)\n",
      "AutoDelta.locs tensor([6.7487, 4.4876])\n"
     ]
    }
   ],
   "source": [
    "\n",
    "for k in pyro.get_param_store():\n",
    "    print(k, pyro.get_param_store()[k].detach())\n"
   ]
  },
  {
   "cell_type": "markdown",
   "id": "70835290",
   "metadata": {},
   "source": [
    "\n",
    "# Additional exercises\n",
    "\n",
    "1. The inferred parameters were innaccurate, try generating a better initialization as described in the [gmm tutorial](https://pyro.ai/examples/gmm.html#Training-a-MAP-estimator)\n",
    "2. Extend the GMM to a 2D model\n",
    "3. Modify from global variance to component specific variance\n",
    "4. Modify from global variance to dimension specific variance\n"
   ]
  },
  {
   "cell_type": "markdown",
   "id": "bd28368b",
   "metadata": {},
   "source": [
    "\n",
    "# Answer key from here:\n"
   ]
  },
  {
   "cell_type": "code",
   "execution_count": 5,
   "id": "0d5b2f59",
   "metadata": {},
   "outputs": [
    {
     "name": "stdout",
     "output_type": "stream",
     "text": [
      "seed = 98, initial_loss = 117.02839660644531\n"
     ]
    }
   ],
   "source": [
    "\n",
    "def init_loc_fn(site):\n",
    "    if site[\"name\"] == \"weights\":\n",
    "        # Initialize weights to uniform.\n",
    "        return torch.ones(K) / K\n",
    "    if site[\"name\"] == \"scale\":\n",
    "        return (data.var() / 2).sqrt()\n",
    "    if site[\"name\"] == \"locs\":\n",
    "        return data[torch.multinomial(torch.ones(len(data)) / len(data), K)]\n",
    "    raise ValueError(site[\"name\"])\n",
    "\n",
    "def initialize(seed):\n",
    "    global global_guide, svi\n",
    "    pyro.set_rng_seed(seed)\n",
    "    pyro.clear_param_store()\n",
    "    global_guide = AutoDelta(\n",
    "        pyro.poutine.block(model, expose=['weights', 'locs', 'scale']),\n",
    "        init_loc_fn=init_loc_fn)\n",
    "    svi = SVI(model, global_guide, optim, loss=elbo)\n",
    "    return svi.loss(model, global_guide, data)\n",
    "\n",
    "# Choose the best among 100 random initializations.\n",
    "loss, seed = min((initialize(seed), seed) for seed in range(100))\n",
    "initialize(seed)\n",
    "print('seed = {}, initial_loss = {}'.format(seed, loss))\n"
   ]
  },
  {
   "cell_type": "code",
   "execution_count": 6,
   "id": "1aa20033",
   "metadata": {},
   "outputs": [
    {
     "name": "stdout",
     "output_type": "stream",
     "text": [
      "\n",
      "...................................................................................................\n",
      "...................................................................................................\n",
      "...................................................................................................\n",
      "...................................................................................................\n",
      "..................................................................................................."
     ]
    }
   ],
   "source": [
    "\n",
    "losses = []\n",
    "for i in range(500):\n",
    "    loss = svi.step(data)\n",
    "    losses.append(loss)\n",
    "    print('.' if i % 100 else '\\n', end='')\n"
   ]
  },
  {
   "cell_type": "code",
   "execution_count": 7,
   "id": "f347d1fb",
   "metadata": {},
   "outputs": [
    {
     "data": {
      "image/png": "[encoded data removed]",
      "text/plain": [
       "<Figure size 1000x300 with 1 Axes>"
      ]
     },
     "metadata": {},
     "output_type": "display_data"
    }
   ],
   "source": [
    "\n",
    "plt.figure(figsize=(10,3), dpi=100).set_facecolor('white')\n",
    "plt.plot(losses)\n",
    "plt.xlabel('iters')\n",
    "plt.ylabel('loss')\n",
    "plt.yscale('log')\n",
    "plt.title('Convergence of SVI');\n"
   ]
  },
  {
   "cell_type": "code",
   "execution_count": 8,
   "id": "20af6b06",
   "metadata": {},
   "outputs": [
    {
     "name": "stdout",
     "output_type": "stream",
     "text": [
      "AutoDelta.weights tensor([0.9042, 0.0958])\n",
      "AutoDelta.scale tensor(0.3434)\n",
      "AutoDelta.locs tensor([6.5672, 8.4262])\n"
     ]
    }
   ],
   "source": [
    "\n",
    "for k in pyro.get_param_store():\n",
    "    print(k, pyro.get_param_store()[k].detach())\n"
   ]
  },
  {
   "cell_type": "markdown",
   "id": "76126442",
   "metadata": {},
   "source": [
    "\n",
    "# 2D GMM\n"
   ]
  },
  {
   "cell_type": "code",
   "execution_count": 249,
   "id": "48a31fe6",
   "metadata": {},
   "outputs": [],
   "source": [
    "\n",
    "K = 3\n",
    "D = 2\n",
    "\n",
    "@config_enumerate\n",
    "def model(data=None, n_data=None):\n",
    "    assert (data is None) != (n_data is None)\n",
    "    if n_data is None:\n",
    "        n_data = data.shape[0]\n",
    "\n",
    "    weights = pyro.sample('weights', dist.Dirichlet(0.5 * torch.ones(K)))\n",
    "\n",
    "    scale = pyro.sample('scale', dist.LogNormal(0., 0.5))\n",
    "\n",
    "    with pyro.plate('dims', D):\n",
    "        with pyro.plate('components', K):\n",
    "            locs = pyro.sample('locs', dist.Normal(0., 4.))\n",
    "\n",
    "    with pyro.plate('data', n_data):\n",
    "        assignment = pyro.sample('assignment', dist.Categorical(weights))\n",
    "        obs = pyro.sample('obs', dist.Normal(locs[assignment], scale).to_event(1), obs=data)\n"
   ]
  },
  {
   "cell_type": "code",
   "execution_count": 176,
   "id": "12f8d015",
   "metadata": {
    "scrolled": false
   },
   "outputs": [
    {
     "name": "stdout",
     "output_type": "stream",
     "text": [
      "  Trace Shapes:         \n",
      "   Param Sites:         \n",
      "  Sample Sites:         \n",
      "   weights dist      | 3\n",
      "          value      | 3\n",
      "       log_prob      |  \n",
      "     scale dist      |  \n",
      "          value      |  \n",
      "       log_prob      |  \n",
      "      dims dist      |  \n",
      "          value    2 |  \n",
      "       log_prob      |  \n",
      "components dist      |  \n",
      "          value    3 |  \n",
      "       log_prob      |  \n",
      "      locs dist 3  2 |  \n",
      "          value 3  2 |  \n",
      "       log_prob 3  2 |  \n",
      "      data dist      |  \n",
      "          value   11 |  \n",
      "       log_prob      |  \n",
      "assignment dist   11 |  \n",
      "          value   11 |  \n",
      "       log_prob   11 |  \n",
      "       obs dist   11 | 2\n",
      "          value   11 | 2\n",
      "       log_prob   11 |  \n"
     ]
    }
   ],
   "source": [
    "\n",
    "trace = poutine.trace(model).get_trace(n_data=11)\n",
    "trace.compute_log_prob()\n",
    "print(trace.format_shapes())\n"
   ]
  },
  {
   "cell_type": "markdown",
   "id": "156d6af9",
   "metadata": {},
   "source": [
    "\n",
    "# 2D GMM with component specific variance\n"
   ]
  },
  {
   "cell_type": "code",
   "execution_count": 390,
   "id": "16711df1",
   "metadata": {},
   "outputs": [],
   "source": [
    "\n",
    "K = 3\n",
    "D = 2\n",
    "\n",
    "@config_enumerate\n",
    "def model(data=None, n_data=None):\n",
    "    assert (data is None) != (n_data is None)\n",
    "    if n_data is None:\n",
    "        n_data = data.shape[0]\n",
    "\n",
    "    weights = pyro.sample('weights', dist.Dirichlet(1. * torch.ones(K)))\n",
    "\n",
    "    dims = pyro.plate('dims', D, dim=-1)\n",
    "    components = pyro.plate('components', K, dim=-2)\n",
    "\n",
    "    with components:\n",
    "        scale = pyro.sample('scale', dist.LogNormal(0., 0.5))\n",
    "\n",
    "    with dims:\n",
    "        with components:\n",
    "            locs = pyro.sample('locs', dist.Normal(0., 4.))\n",
    "\n",
    "    with pyro.plate('data', n_data):\n",
    "        assignment = pyro.sample('assignment', dist.Categorical(weights))\n",
    "        obs = pyro.sample('obs', dist.Normal(locs[assignment], scale[assignment]).to_event(1), obs=data)\n"
   ]
  },
  {
   "cell_type": "markdown",
   "id": "c461efce",
   "metadata": {},
   "source": [
    "\n",
    "# 2D GMM with component specific variance (alternate)\n"
   ]
  },
  {
   "cell_type": "code",
   "execution_count": 391,
   "id": "0fbc0237",
   "metadata": {},
   "outputs": [],
   "source": [
    "\n",
    "K = 3\n",
    "D = 2\n",
    "\n",
    "@config_enumerate\n",
    "def model(data=None, n_data=None):\n",
    "    assert (data is None) != (n_data is None)\n",
    "    if n_data is None:\n",
    "        n_data = data.shape[0]\n",
    "\n",
    "    weights = pyro.sample('weights', dist.Dirichlet(1. * torch.ones(K)))\n",
    "\n",
    "    dims = pyro.plate('dims', D, dim=-2)\n",
    "    components = pyro.plate('components', K, dim=-1)\n",
    "\n",
    "    with components:\n",
    "        scale = pyro.sample('scale', dist.LogNormal(0., 0.5))\n",
    "        with dims:\n",
    "            locs = pyro.sample('locs', dist.Normal(0., 4.))\n",
    "\n",
    "    with pyro.plate('data', n_data):\n",
    "        assignment = pyro.sample('assignment', dist.Categorical(weights))\n",
    "        obs = pyro.sample('obs', dist.Normal(locs.swapaxes(-1, -2)[assignment], scale[assignment, None]).to_event(1), obs=data)\n"
   ]
  },
  {
   "cell_type": "markdown",
   "id": "04192d16",
   "metadata": {},
   "source": [
    "\n",
    "# 2D GMM with dimension specific variance\n"
   ]
  },
  {
   "cell_type": "code",
   "execution_count": 392,
   "id": "488def62",
   "metadata": {},
   "outputs": [],
   "source": [
    "\n",
    "K = 3\n",
    "D = 2\n",
    "\n",
    "@config_enumerate\n",
    "def model(data=None, n_data=None):\n",
    "    assert (data is None) != (n_data is None)\n",
    "    if n_data is None:\n",
    "        n_data = data.shape[0]\n",
    "\n",
    "    weights = pyro.sample('weights', dist.Dirichlet(1. * torch.ones(K)))\n",
    "\n",
    "    dims = pyro.plate('dims', D, dim=-2)\n",
    "    components = pyro.plate('components', K, dim=-1)\n",
    "\n",
    "    with dims:\n",
    "        scale = pyro.sample('scale', dist.LogNormal(0., 0.5))\n",
    "\n",
    "    with components:\n",
    "        with dims:\n",
    "            locs = pyro.sample('locs', dist.Normal(0., 4.))\n",
    "\n",
    "    with pyro.plate('data', n_data):\n",
    "        assignment = pyro.sample('assignment', dist.Categorical(weights))\n",
    "        obs = pyro.sample('obs', dist.Normal(locs.swapaxes(-1, -2)[assignment], scale.swapaxes(-1, -2)).to_event(1), obs=data)\n"
   ]
  },
  {
   "cell_type": "code",
   "execution_count": 393,
   "id": "0ca120e0",
   "metadata": {
    "scrolled": false
   },
   "outputs": [
    {
     "name": "stdout",
     "output_type": "stream",
     "text": [
      "  Trace Shapes:         \n",
      "   Param Sites:         \n",
      "  Sample Sites:         \n",
      "   weights dist      | 3\n",
      "          value      | 3\n",
      "       log_prob      |  \n",
      "      dims dist      |  \n",
      "          value    2 |  \n",
      "       log_prob      |  \n",
      "components dist      |  \n",
      "          value    3 |  \n",
      "       log_prob      |  \n",
      "     scale dist 2  1 |  \n",
      "          value 2  1 |  \n",
      "       log_prob 2  1 |  \n",
      "      locs dist 2  3 |  \n",
      "          value 2  3 |  \n",
      "       log_prob 2  3 |  \n",
      "      data dist      |  \n",
      "          value   11 |  \n",
      "       log_prob      |  \n",
      "assignment dist   11 |  \n",
      "          value   11 |  \n",
      "       log_prob   11 |  \n",
      "       obs dist   11 | 2\n",
      "          value   11 | 2\n",
      "       log_prob   11 |  \n"
     ]
    }
   ],
   "source": [
    "\n",
    "trace = poutine.trace(model).get_trace(n_data=11)\n",
    "trace.compute_log_prob()\n",
    "print(trace.format_shapes())\n"
   ]
  },
  {
   "cell_type": "code",
   "execution_count": 394,
   "id": "d08bf31a",
   "metadata": {
    "scrolled": false
   },
   "outputs": [
    {
     "name": "stdout",
     "output_type": "stream",
     "text": [
      "  Trace Shapes:         \n",
      "   Param Sites:         \n",
      "  Sample Sites:         \n",
      "   weights dist      | 3\n",
      "          value      | 3\n",
      "       log_prob      |  \n",
      "      dims dist      |  \n",
      "          value    2 |  \n",
      "       log_prob      |  \n",
      "components dist      |  \n",
      "          value    3 |  \n",
      "       log_prob      |  \n",
      "     scale dist 2  1 |  \n",
      "          value 2  1 |  \n",
      "       log_prob 2  1 |  \n",
      "      locs dist 2  3 |  \n",
      "          value 2  3 |  \n",
      "       log_prob 2  3 |  \n",
      "      data dist      |  \n",
      "          value   11 |  \n",
      "       log_prob      |  \n",
      "assignment dist   11 |  \n",
      "          value 3  1 |  \n",
      "       log_prob 3 11 |  \n",
      "       obs dist 3 11 | 2\n",
      "          value 3 11 | 2\n",
      "       log_prob 3 11 |  \n"
     ]
    }
   ],
   "source": [
    "\n",
    "trace = poutine.trace(poutine.enum(model, first_available_dim=-2)).get_trace(n_data=11)\n",
    "trace.compute_log_prob()\n",
    "print(trace.format_shapes())\n"
   ]
  },
  {
   "cell_type": "code",
   "execution_count": 420,
   "id": "819dd017",
   "metadata": {},
   "outputs": [
    {
     "name": "stdout",
     "output_type": "stream",
     "text": [
      "weights [0.1299249  0.64615023 0.22392489]\n",
      "scale [[0.6280262]\n",
      " [1.3850185]]\n",
      "locs [[ 0.5290737 -4.0344687  4.0141873]\n",
      " [-1.8481947 -3.6609821  1.4186052]]\n"
     ]
    },
    {
     "data": {
      "image/png": "[encoded data removed]",
      "text/plain": [
       "<Figure size 432x288 with 1 Axes>"
      ]
     },
     "metadata": {
      "needs_background": "light"
     },
     "output_type": "display_data"
    }
   ],
   "source": [
    "\n",
    "pyro.set_rng_seed(59)\n",
    "pyro.clear_param_store()\n",
    "\n",
    "model_trace = pyro.poutine.trace(model)\n",
    "\n",
    "samples = model_trace.get_trace(n_data=100)\n",
    "\n",
    "for a in ('weights', 'scale', 'locs'):\n",
    "    print(a, samples.nodes[a]['value'].detach().numpy())\n",
    "\n",
    "data = samples.nodes['obs']['value'].detach()\n",
    "\n",
    "sns.scatterplot(x=data[:, 0], y=data[:, 1])\n",
    "sns.despine(trim=True)\n"
   ]
  },
  {
   "cell_type": "code",
   "execution_count": 421,
   "id": "92173ef9",
   "metadata": {},
   "outputs": [
    {
     "name": "stdout",
     "output_type": "stream",
     "text": [
      "\n",
      "..................................................................................................."
     ]
    }
   ],
   "source": [
    "\n",
    "optim = pyro.optim.Adam({'lr': 0.1, 'betas': [0.8, 0.99]})\n",
    "elbo = TraceEnum_ELBO(max_plate_nesting=2)\n",
    "\n",
    "pyro.set_rng_seed(1)\n",
    "pyro.clear_param_store()\n",
    "\n",
    "global_guide = AutoDelta(\n",
    "    pyro.poutine.block(model, expose=['weights', 'locs', 'scale']))\n",
    "\n",
    "svi = SVI(model, global_guide, optim, loss=elbo)\n",
    "\n",
    "losses = []\n",
    "for i in range(100):\n",
    "    loss = svi.step(data)\n",
    "    losses.append(loss)\n",
    "    print('.' if i % 100 else '\\n', end='')\n"
   ]
  },
  {
   "cell_type": "code",
   "execution_count": 422,
   "id": "94bfcb85",
   "metadata": {},
   "outputs": [
    {
     "name": "stdout",
     "output_type": "stream",
     "text": [
      "AutoDelta.weights tensor([0.6538, 0.2034, 0.1428])\n",
      "AutoDelta.scale tensor([[1.2419],\n",
      "        [1.4078]])\n",
      "AutoDelta.locs tensor([[-3.6210,  4.0619,  0.8939],\n",
      "        [-3.7562,  1.2663, -1.9768]])\n"
     ]
    }
   ],
   "source": [
    "\n",
    "for k in pyro.get_param_store():\n",
    "    print(k, pyro.get_param_store()[k].detach())\n"
   ]
  },
  {
   "cell_type": "code",
   "execution_count": null,
   "id": "0dc6e37f",
   "metadata": {},
   "outputs": [],
   "source": []
  }
 ],
 "metadata": {
  "kernelspec": {
   "display_name": "Python 3 (ipykernel)",
   "language": "python",
   "name": "python3"
  },
  "language_info": {
   "codemirror_mode": {
    "name": "ipython",
    "version": 3
   },
   "file_extension": ".py",
   "mimetype": "text/x-python",
   "name": "python",
   "nbconvert_exporter": "python",
   "pygments_lexer": "ipython3",
   "version": "3.9.5"
  }
 },
 "nbformat": 4,
 "nbformat_minor": 5
}
